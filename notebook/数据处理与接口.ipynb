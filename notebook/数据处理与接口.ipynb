{
 "cells": [
  {
   "cell_type": "code",
   "execution_count": 2,
   "metadata": {},
   "outputs": [],
   "source": [
    "from pathlib import Path\n",
    "\n",
    "import pandas as pd\n",
    "import numpy as np\n",
    "import matplotlib.pyplot as plt\n",
    "import seaborn as sns\n",
    "\n",
    "DATASET_DIR = Path(\"../dataset/csv/\")\n",
    "if not DATASET_DIR.exists():\n",
    "    raise FileNotFoundError(\"请准备好数据集后再尝试运行\")\n",
    "\n",
    "# seaborn 主题设置\n",
    "sns.set_theme()\n",
    "# 添加中文绘图支持\n",
    "plt.rcParams['font.family'] = 'SimSun'\n",
    "plt.rcParams['axes.unicode_minus'] = False"
   ]
  },
  {
   "cell_type": "code",
   "execution_count": 3,
   "metadata": {},
   "outputs": [
    {
     "data": {
      "text/html": [
       "<div>\n",
       "<style scoped>\n",
       "    .dataframe tbody tr th:only-of-type {\n",
       "        vertical-align: middle;\n",
       "    }\n",
       "\n",
       "    .dataframe tbody tr th {\n",
       "        vertical-align: top;\n",
       "    }\n",
       "\n",
       "    .dataframe thead th {\n",
       "        text-align: right;\n",
       "    }\n",
       "</style>\n",
       "<table border=\"1\" class=\"dataframe\">\n",
       "  <thead>\n",
       "    <tr style=\"text-align: right;\">\n",
       "      <th></th>\n",
       "      <th>sensor_1</th>\n",
       "      <th>sensor_2</th>\n",
       "      <th>sensor_4</th>\n",
       "      <th>sensor_5</th>\n",
       "      <th>sensor_6</th>\n",
       "      <th>sensor_7</th>\n",
       "      <th>sensor_8</th>\n",
       "      <th>sensor_9</th>\n",
       "      <th>sensor_10</th>\n",
       "      <th>sensor_11</th>\n",
       "      <th>sensor_13</th>\n",
       "    </tr>\n",
       "  </thead>\n",
       "  <tbody>\n",
       "    <tr>\n",
       "      <th>738911257.0</th>\n",
       "      <td>0.5666</td>\n",
       "      <td>0.5661</td>\n",
       "      <td>0.5766</td>\n",
       "      <td>0.5705</td>\n",
       "      <td>0.5634</td>\n",
       "      <td>0.5701</td>\n",
       "      <td>0.5682</td>\n",
       "      <td>0.5649</td>\n",
       "      <td>0.5702</td>\n",
       "      <td>0.5658</td>\n",
       "      <td>0.5768</td>\n",
       "    </tr>\n",
       "    <tr>\n",
       "      <th>738911258.0</th>\n",
       "      <td>0.5665</td>\n",
       "      <td>0.5660</td>\n",
       "      <td>0.5765</td>\n",
       "      <td>0.5704</td>\n",
       "      <td>0.5633</td>\n",
       "      <td>0.5700</td>\n",
       "      <td>0.5681</td>\n",
       "      <td>0.5648</td>\n",
       "      <td>0.5720</td>\n",
       "      <td>0.5676</td>\n",
       "      <td>0.5748</td>\n",
       "    </tr>\n",
       "    <tr>\n",
       "      <th>738911259.0</th>\n",
       "      <td>0.5664</td>\n",
       "      <td>0.5658</td>\n",
       "      <td>0.5764</td>\n",
       "      <td>0.5703</td>\n",
       "      <td>0.5632</td>\n",
       "      <td>0.5699</td>\n",
       "      <td>0.5679</td>\n",
       "      <td>0.5646</td>\n",
       "      <td>0.5718</td>\n",
       "      <td>0.5675</td>\n",
       "      <td>0.5766</td>\n",
       "    </tr>\n",
       "    <tr>\n",
       "      <th>738911260.0</th>\n",
       "      <td>0.5663</td>\n",
       "      <td>0.5657</td>\n",
       "      <td>0.5762</td>\n",
       "      <td>0.5702</td>\n",
       "      <td>0.5631</td>\n",
       "      <td>0.5698</td>\n",
       "      <td>0.5678</td>\n",
       "      <td>0.5645</td>\n",
       "      <td>0.5717</td>\n",
       "      <td>0.5674</td>\n",
       "      <td>0.5746</td>\n",
       "    </tr>\n",
       "    <tr>\n",
       "      <th>738911261.0</th>\n",
       "      <td>0.5662</td>\n",
       "      <td>0.5656</td>\n",
       "      <td>0.5761</td>\n",
       "      <td>0.5701</td>\n",
       "      <td>0.5629</td>\n",
       "      <td>0.5697</td>\n",
       "      <td>0.5677</td>\n",
       "      <td>0.5644</td>\n",
       "      <td>0.5716</td>\n",
       "      <td>0.5673</td>\n",
       "      <td>0.5745</td>\n",
       "    </tr>\n",
       "  </tbody>\n",
       "</table>\n",
       "</div>"
      ],
      "text/plain": [
       "             sensor_1  sensor_2  sensor_4  sensor_5  sensor_6  sensor_7  \\\n",
       "738911257.0    0.5666    0.5661    0.5766    0.5705    0.5634    0.5701   \n",
       "738911258.0    0.5665    0.5660    0.5765    0.5704    0.5633    0.5700   \n",
       "738911259.0    0.5664    0.5658    0.5764    0.5703    0.5632    0.5699   \n",
       "738911260.0    0.5663    0.5657    0.5762    0.5702    0.5631    0.5698   \n",
       "738911261.0    0.5662    0.5656    0.5761    0.5701    0.5629    0.5697   \n",
       "\n",
       "             sensor_8  sensor_9  sensor_10  sensor_11  sensor_13  \n",
       "738911257.0    0.5682    0.5649     0.5702     0.5658     0.5768  \n",
       "738911258.0    0.5681    0.5648     0.5720     0.5676     0.5748  \n",
       "738911259.0    0.5679    0.5646     0.5718     0.5675     0.5766  \n",
       "738911260.0    0.5678    0.5645     0.5717     0.5674     0.5746  \n",
       "738911261.0    0.5677    0.5644     0.5716     0.5673     0.5745  "
      ]
     },
     "execution_count": 3,
     "metadata": {},
     "output_type": "execute_result"
    }
   ],
   "source": [
    "df = pd.read_csv(DATASET_DIR / \"S1.csv\",index_col=0)\n",
    "df.index.name = None\n",
    "df.index = pd.to_datetime(df.index,unit='s')\n",
    "df.index = df.index.astype(int) / 1e9\n",
    "df.head()"
   ]
  },
  {
   "cell_type": "code",
   "execution_count": null,
   "metadata": {},
   "outputs": [
    {
     "data": {
      "text/plain": [
       "array([1, 2, 0, 1])"
      ]
     },
     "execution_count": 9,
     "metadata": {},
     "output_type": "execute_result"
    }
   ],
   "source": [
    "import numpy as np\n",
    "a = np.array([\n",
    "    [1,2],\n",
    "    [0,1]\n",
    "])\n"
   ]
  },
  {
   "cell_type": "code",
   "execution_count": null,
   "metadata": {},
   "outputs": [],
   "source": []
  }
 ],
 "metadata": {
  "kernelspec": {
   "display_name": ".venv",
   "language": "python",
   "name": "python3"
  },
  "language_info": {
   "codemirror_mode": {
    "name": "ipython",
    "version": 3
   },
   "file_extension": ".py",
   "mimetype": "text/x-python",
   "name": "python",
   "nbconvert_exporter": "python",
   "pygments_lexer": "ipython3",
   "version": "3.13.0"
  }
 },
 "nbformat": 4,
 "nbformat_minor": 2
}
