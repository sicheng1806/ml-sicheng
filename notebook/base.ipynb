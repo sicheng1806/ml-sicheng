{
 "cells": [
  {
   "cell_type": "code",
   "execution_count": 3,
   "metadata": {},
   "outputs": [],
   "source": [
    "import matplotlib.pyplot as plt\n",
    "from pathlib import Path\n",
    "import os\n",
    "\n",
    "plt.rcParams[\"font.family\"] = \"SimSun\"\n",
    "plt.rcParams[\"axes.unicode_minus\"] = False\n",
    "\n",
    "os.environ[\"MYLIB_DATASETS_DIR\"] = \"../dataset/data\"\n",
    "os.environ[\"KERAS_BACKEND\"] = \"jax\"\n",
    "\n",
    "IMG_DIR = Path(\"../output/imgs\")\n",
    "if not IMG_DIR.exists():\n",
    "    IMG_DIR.mkdir()\n",
    "plot_kw = dict(show=True, save=False, img_dir=IMG_DIR / \"base\")"
   ]
  },
  {
   "cell_type": "code",
   "execution_count": 1,
   "metadata": {},
   "outputs": [
    {
     "name": "stdout",
     "output_type": "stream",
     "text": [
      "0.1.1\n"
     ]
    }
   ],
   "source": [
    "import ml_sicheng\n",
    "\n",
    "print(ml_sicheng.__version__)"
   ]
  }
 ],
 "metadata": {
  "kernelspec": {
   "display_name": ".venv",
   "language": "python",
   "name": "python3"
  },
  "language_info": {
   "codemirror_mode": {
    "name": "ipython",
    "version": 3
   },
   "file_extension": ".py",
   "mimetype": "text/x-python",
   "name": "python",
   "nbconvert_exporter": "python",
   "pygments_lexer": "ipython3",
   "version": "3.13.0"
  }
 },
 "nbformat": 4,
 "nbformat_minor": 2
}
